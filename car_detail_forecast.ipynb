{
  "cells": [
    {
      "cell_type": "code",
      "source": [
        "# !pip install scikit-optimize"
      ],
      "metadata": {
        "id": "Md33hPKluSjo"
      },
      "execution_count": 1,
      "outputs": []
    },
    {
      "cell_type": "code",
      "source": [
        "# import re\n",
        "import numpy as np\n",
        "import pandas as pd\n",
        "import seaborn as sns\n",
        "import missingno as msno\n",
        "import matplotlib.pyplot as plt\n",
        "\n",
        "# forecast\n",
        "import lightgbm as lgb\n",
        "\n",
        "# best_cat\n",
        "from sklearn.feature_selection import SelectKBest\n",
        "from sklearn.feature_selection import chi2\n",
        "\n",
        "# hyperparameter\n",
        "\n",
        "from skopt import BayesSearchCV\n",
        "from sklearn.pipeline import Pipeline\n",
        "from sklearn.preprocessing import MinMaxScaler\n",
        "from skopt.space import Real, Integer, Categorical\n",
        "from sklearn.model_selection import train_test_split, KFold\n",
        "\n",
        "# Accuracy metric \n",
        "from sklearn.metrics import mean_squared_error, mean_absolute_error, median_absolute_error, r2_score\n",
        "\n",
        "# warning\n",
        "import warnings\n",
        "warnings.filterwarnings('ignore')"
      ],
      "metadata": {
        "id": "atpKSM97So6D"
      },
      "execution_count": 2,
      "outputs": []
    },
    {
      "cell_type": "code",
      "source": [
        "# import zipfile\n",
        "# with zipfile.ZipFile('/content/data/archive.zip', 'r') as zip_ref:\n",
        "#     zip_ref.extractall('/content/data/')"
      ],
      "metadata": {
        "id": "LqpSpJyJ5bcT"
      },
      "execution_count": 3,
      "outputs": []
    },
    {
      "cell_type": "code",
      "source": [
        "df = pd.read_csv('/content/data/Car details v3.csv')"
      ],
      "metadata": {
        "id": "X4JKWGGQems7"
      },
      "execution_count": 4,
      "outputs": []
    },
    {
      "cell_type": "code",
      "source": [
        "df.shape"
      ],
      "metadata": {
        "colab": {
          "base_uri": "https://localhost:8080/"
        },
        "id": "i2fvMEy8fBK-",
        "outputId": "49eacd48-399c-4ddb-8088-33bfe8b1196e"
      },
      "execution_count": 5,
      "outputs": [
        {
          "output_type": "execute_result",
          "data": {
            "text/plain": [
              "(8128, 13)"
            ]
          },
          "metadata": {},
          "execution_count": 5
        }
      ]
    },
    {
      "cell_type": "code",
      "source": [
        "# plt.figure()\n",
        "# msno.matrix(df, figsize=(10, 10))"
      ],
      "metadata": {
        "id": "wImKEMSDfLr5"
      },
      "execution_count": 6,
      "outputs": []
    },
    {
      "cell_type": "code",
      "source": [
        "# df.info()"
      ],
      "metadata": {
        "id": "iD5VTAI7fgKK"
      },
      "execution_count": 7,
      "outputs": []
    },
    {
      "cell_type": "code",
      "source": [
        "df.dropna(inplace=True)"
      ],
      "metadata": {
        "id": "Lat-lATHfltR"
      },
      "execution_count": 8,
      "outputs": []
    },
    {
      "cell_type": "code",
      "source": [
        "numerics = ['int16', 'int32', 'int64', 'float16', 'float32', 'float64']\n",
        "\n",
        "df_num = df.select_dtypes(include=numerics)\n",
        "df_cat = df.drop(columns = df_num.columns, axis=1)"
      ],
      "metadata": {
        "id": "wLq-nKqGfq6G"
      },
      "execution_count": 9,
      "outputs": []
    },
    {
      "cell_type": "code",
      "source": [
        "df_cat.head()"
      ],
      "metadata": {
        "colab": {
          "base_uri": "https://localhost:8080/",
          "height": 206
        },
        "id": "wdcDl7mEgIz1",
        "outputId": "79cf8f5f-e5b9-40ff-88df-44b1c68eb519"
      },
      "execution_count": 10,
      "outputs": [
        {
          "output_type": "execute_result",
          "data": {
            "text/plain": [
              "                           name    fuel seller_type transmission  \\\n",
              "0        Maruti Swift Dzire VDI  Diesel  Individual       Manual   \n",
              "1  Skoda Rapid 1.5 TDI Ambition  Diesel  Individual       Manual   \n",
              "2      Honda City 2017-2020 EXi  Petrol  Individual       Manual   \n",
              "3     Hyundai i20 Sportz Diesel  Diesel  Individual       Manual   \n",
              "4        Maruti Swift VXI BSIII  Petrol  Individual       Manual   \n",
              "\n",
              "          owner     mileage   engine   max_power                    torque  \n",
              "0   First Owner   23.4 kmpl  1248 CC      74 bhp            190Nm@ 2000rpm  \n",
              "1  Second Owner  21.14 kmpl  1498 CC  103.52 bhp       250Nm@ 1500-2500rpm  \n",
              "2   Third Owner   17.7 kmpl  1497 CC      78 bhp     12.7@ 2,700(kgm@ rpm)  \n",
              "3   First Owner   23.0 kmpl  1396 CC      90 bhp  22.4 kgm at 1750-2750rpm  \n",
              "4   First Owner   16.1 kmpl  1298 CC    88.2 bhp     11.5@ 4,500(kgm@ rpm)  "
            ],
            "text/html": [
              "\n",
              "  <div id=\"df-7b378586-ed47-4ae3-9fcd-3bfd5aa00a46\">\n",
              "    <div class=\"colab-df-container\">\n",
              "      <div>\n",
              "<style scoped>\n",
              "    .dataframe tbody tr th:only-of-type {\n",
              "        vertical-align: middle;\n",
              "    }\n",
              "\n",
              "    .dataframe tbody tr th {\n",
              "        vertical-align: top;\n",
              "    }\n",
              "\n",
              "    .dataframe thead th {\n",
              "        text-align: right;\n",
              "    }\n",
              "</style>\n",
              "<table border=\"1\" class=\"dataframe\">\n",
              "  <thead>\n",
              "    <tr style=\"text-align: right;\">\n",
              "      <th></th>\n",
              "      <th>name</th>\n",
              "      <th>fuel</th>\n",
              "      <th>seller_type</th>\n",
              "      <th>transmission</th>\n",
              "      <th>owner</th>\n",
              "      <th>mileage</th>\n",
              "      <th>engine</th>\n",
              "      <th>max_power</th>\n",
              "      <th>torque</th>\n",
              "    </tr>\n",
              "  </thead>\n",
              "  <tbody>\n",
              "    <tr>\n",
              "      <th>0</th>\n",
              "      <td>Maruti Swift Dzire VDI</td>\n",
              "      <td>Diesel</td>\n",
              "      <td>Individual</td>\n",
              "      <td>Manual</td>\n",
              "      <td>First Owner</td>\n",
              "      <td>23.4 kmpl</td>\n",
              "      <td>1248 CC</td>\n",
              "      <td>74 bhp</td>\n",
              "      <td>190Nm@ 2000rpm</td>\n",
              "    </tr>\n",
              "    <tr>\n",
              "      <th>1</th>\n",
              "      <td>Skoda Rapid 1.5 TDI Ambition</td>\n",
              "      <td>Diesel</td>\n",
              "      <td>Individual</td>\n",
              "      <td>Manual</td>\n",
              "      <td>Second Owner</td>\n",
              "      <td>21.14 kmpl</td>\n",
              "      <td>1498 CC</td>\n",
              "      <td>103.52 bhp</td>\n",
              "      <td>250Nm@ 1500-2500rpm</td>\n",
              "    </tr>\n",
              "    <tr>\n",
              "      <th>2</th>\n",
              "      <td>Honda City 2017-2020 EXi</td>\n",
              "      <td>Petrol</td>\n",
              "      <td>Individual</td>\n",
              "      <td>Manual</td>\n",
              "      <td>Third Owner</td>\n",
              "      <td>17.7 kmpl</td>\n",
              "      <td>1497 CC</td>\n",
              "      <td>78 bhp</td>\n",
              "      <td>12.7@ 2,700(kgm@ rpm)</td>\n",
              "    </tr>\n",
              "    <tr>\n",
              "      <th>3</th>\n",
              "      <td>Hyundai i20 Sportz Diesel</td>\n",
              "      <td>Diesel</td>\n",
              "      <td>Individual</td>\n",
              "      <td>Manual</td>\n",
              "      <td>First Owner</td>\n",
              "      <td>23.0 kmpl</td>\n",
              "      <td>1396 CC</td>\n",
              "      <td>90 bhp</td>\n",
              "      <td>22.4 kgm at 1750-2750rpm</td>\n",
              "    </tr>\n",
              "    <tr>\n",
              "      <th>4</th>\n",
              "      <td>Maruti Swift VXI BSIII</td>\n",
              "      <td>Petrol</td>\n",
              "      <td>Individual</td>\n",
              "      <td>Manual</td>\n",
              "      <td>First Owner</td>\n",
              "      <td>16.1 kmpl</td>\n",
              "      <td>1298 CC</td>\n",
              "      <td>88.2 bhp</td>\n",
              "      <td>11.5@ 4,500(kgm@ rpm)</td>\n",
              "    </tr>\n",
              "  </tbody>\n",
              "</table>\n",
              "</div>\n",
              "      <button class=\"colab-df-convert\" onclick=\"convertToInteractive('df-7b378586-ed47-4ae3-9fcd-3bfd5aa00a46')\"\n",
              "              title=\"Convert this dataframe to an interactive table.\"\n",
              "              style=\"display:none;\">\n",
              "        \n",
              "  <svg xmlns=\"http://www.w3.org/2000/svg\" height=\"24px\"viewBox=\"0 0 24 24\"\n",
              "       width=\"24px\">\n",
              "    <path d=\"M0 0h24v24H0V0z\" fill=\"none\"/>\n",
              "    <path d=\"M18.56 5.44l.94 2.06.94-2.06 2.06-.94-2.06-.94-.94-2.06-.94 2.06-2.06.94zm-11 1L8.5 8.5l.94-2.06 2.06-.94-2.06-.94L8.5 2.5l-.94 2.06-2.06.94zm10 10l.94 2.06.94-2.06 2.06-.94-2.06-.94-.94-2.06-.94 2.06-2.06.94z\"/><path d=\"M17.41 7.96l-1.37-1.37c-.4-.4-.92-.59-1.43-.59-.52 0-1.04.2-1.43.59L10.3 9.45l-7.72 7.72c-.78.78-.78 2.05 0 2.83L4 21.41c.39.39.9.59 1.41.59.51 0 1.02-.2 1.41-.59l7.78-7.78 2.81-2.81c.8-.78.8-2.07 0-2.86zM5.41 20L4 18.59l7.72-7.72 1.47 1.35L5.41 20z\"/>\n",
              "  </svg>\n",
              "      </button>\n",
              "      \n",
              "  <style>\n",
              "    .colab-df-container {\n",
              "      display:flex;\n",
              "      flex-wrap:wrap;\n",
              "      gap: 12px;\n",
              "    }\n",
              "\n",
              "    .colab-df-convert {\n",
              "      background-color: #E8F0FE;\n",
              "      border: none;\n",
              "      border-radius: 50%;\n",
              "      cursor: pointer;\n",
              "      display: none;\n",
              "      fill: #1967D2;\n",
              "      height: 32px;\n",
              "      padding: 0 0 0 0;\n",
              "      width: 32px;\n",
              "    }\n",
              "\n",
              "    .colab-df-convert:hover {\n",
              "      background-color: #E2EBFA;\n",
              "      box-shadow: 0px 1px 2px rgba(60, 64, 67, 0.3), 0px 1px 3px 1px rgba(60, 64, 67, 0.15);\n",
              "      fill: #174EA6;\n",
              "    }\n",
              "\n",
              "    [theme=dark] .colab-df-convert {\n",
              "      background-color: #3B4455;\n",
              "      fill: #D2E3FC;\n",
              "    }\n",
              "\n",
              "    [theme=dark] .colab-df-convert:hover {\n",
              "      background-color: #434B5C;\n",
              "      box-shadow: 0px 1px 3px 1px rgba(0, 0, 0, 0.15);\n",
              "      filter: drop-shadow(0px 1px 2px rgba(0, 0, 0, 0.3));\n",
              "      fill: #FFFFFF;\n",
              "    }\n",
              "  </style>\n",
              "\n",
              "      <script>\n",
              "        const buttonEl =\n",
              "          document.querySelector('#df-7b378586-ed47-4ae3-9fcd-3bfd5aa00a46 button.colab-df-convert');\n",
              "        buttonEl.style.display =\n",
              "          google.colab.kernel.accessAllowed ? 'block' : 'none';\n",
              "\n",
              "        async function convertToInteractive(key) {\n",
              "          const element = document.querySelector('#df-7b378586-ed47-4ae3-9fcd-3bfd5aa00a46');\n",
              "          const dataTable =\n",
              "            await google.colab.kernel.invokeFunction('convertToInteractive',\n",
              "                                                     [key], {});\n",
              "          if (!dataTable) return;\n",
              "\n",
              "          const docLinkHtml = 'Like what you see? Visit the ' +\n",
              "            '<a target=\"_blank\" href=https://colab.research.google.com/notebooks/data_table.ipynb>data table notebook</a>'\n",
              "            + ' to learn more about interactive tables.';\n",
              "          element.innerHTML = '';\n",
              "          dataTable['output_type'] = 'display_data';\n",
              "          await google.colab.output.renderOutput(dataTable, element);\n",
              "          const docLink = document.createElement('div');\n",
              "          docLink.innerHTML = docLinkHtml;\n",
              "          element.appendChild(docLink);\n",
              "        }\n",
              "      </script>\n",
              "    </div>\n",
              "  </div>\n",
              "  "
            ]
          },
          "metadata": {},
          "execution_count": 10
        }
      ]
    },
    {
      "cell_type": "code",
      "source": [
        "df_num['mileage_kmpl'] = df_cat['mileage'].str.extract(r'([0-9.,]+)').astype('float')\n",
        "df_num['engine_cc'] = df_cat['engine'].str.extract(r'([0-9.,]+)').astype('float')\n",
        "df_num['max_power_bhp'] = df_cat['max_power'].str.extract(r'([0-9.,]+)').astype('float')"
      ],
      "metadata": {
        "id": "eKfEKCjdgSCM"
      },
      "execution_count": 11,
      "outputs": []
    },
    {
      "cell_type": "code",
      "source": [
        "df_num['torque_Nm'] = df_cat['torque'].str.extract(r'([.,0-9]+).*').astype('float')\n",
        "df_num['torque_rpm_min'] = df_cat['torque'].str.extract(r'[0-9.,].+?[a-zA-Z@].+?([0-9.,]+)').replace(',','', regex=True).astype('float')\n",
        "df_num['torque_rpm_max'] = df_cat['torque'].str.extract(r'([\\d,.]+)(?!.*\\d)').replace(',','', regex=True).astype('float')"
      ],
      "metadata": {
        "id": "4BaInk8diGZx"
      },
      "execution_count": 12,
      "outputs": []
    },
    {
      "cell_type": "code",
      "source": [
        "plt.figure(figsize = (15,15))\n",
        "sns.heatmap(df_num.corr(), annot = True)"
      ],
      "metadata": {
        "colab": {
          "base_uri": "https://localhost:8080/",
          "height": 959
        },
        "id": "BrEVSEwlkfma",
        "outputId": "957c2212-3726-4825-bcb7-daa8ef3ff08f"
      },
      "execution_count": 13,
      "outputs": [
        {
          "output_type": "execute_result",
          "data": {
            "text/plain": [
              "<matplotlib.axes._subplots.AxesSubplot at 0x7f87a43d6ed0>"
            ]
          },
          "metadata": {},
          "execution_count": 13
        },
        {
          "output_type": "display_data",
          "data": {
            "text/plain": [
              "<Figure size 1080x1080 with 2 Axes>"
            ],
            "image/png": "[encoded data removed]"
          },
          "metadata": {
            "needs_background": "light"
          }
        }
      ]
    },
    {
      "cell_type": "code",
      "source": [
        "# plt.figure()\n",
        "# sns.pairplot(df_num)"
      ],
      "metadata": {
        "id": "YF4IrFyMkoFU"
      },
      "execution_count": 14,
      "outputs": []
    },
    {
      "cell_type": "code",
      "source": [
        "plt.figure(figsize = (15,15))\n",
        "corr = df_num.corr()\n",
        "\n",
        "# Ambil fitur dengan korelasi dengan selling_price di atas 0.4\n",
        "highest_corr_features = corr.index[abs(corr[\"selling_price\"])>0.4]\n",
        "\n",
        "g = sns.heatmap(df_num[highest_corr_features].corr(),annot=True,cmap=\"RdYlGn\")\n",
        "plt.show()"
      ],
      "metadata": {
        "colab": {
          "base_uri": "https://localhost:8080/",
          "height": 868
        },
        "id": "ctMMRYi2ktf-",
        "outputId": "b426b90b-0d59-48c6-9235-7ce72bb4d24e"
      },
      "execution_count": 15,
      "outputs": [
        {
          "output_type": "display_data",
          "data": {
            "text/plain": [
              "<Figure size 1080x1080 with 2 Axes>"
            ],
            "image/png": "[encoded data removed]"
          },
          "metadata": {
            "needs_background": "light"
          }
        }
      ]
    },
    {
      "cell_type": "code",
      "source": [
        "df_cat.nunique()"
      ],
      "metadata": {
        "colab": {
          "base_uri": "https://localhost:8080/"
        },
        "id": "DSydpKellRDi",
        "outputId": "754a4a3e-313b-4cf0-ab6b-ff51ae805197"
      },
      "execution_count": 16,
      "outputs": [
        {
          "output_type": "execute_result",
          "data": {
            "text/plain": [
              "name            1982\n",
              "fuel               4\n",
              "seller_type        3\n",
              "transmission       2\n",
              "owner              5\n",
              "mileage          393\n",
              "engine           121\n",
              "max_power        320\n",
              "torque           441\n",
              "dtype: int64"
            ]
          },
          "metadata": {},
          "execution_count": 16
        }
      ]
    },
    {
      "cell_type": "code",
      "source": [
        "df_cat = df_cat[['fuel','seller_type', 'transmission', 'owner']]"
      ],
      "metadata": {
        "id": "lxaOP0JVlu4L"
      },
      "execution_count": 17,
      "outputs": []
    },
    {
      "cell_type": "code",
      "source": [
        "df_cat = pd.get_dummies(df_cat)"
      ],
      "metadata": {
        "id": "DpvyvIBxmFMy"
      },
      "execution_count": 18,
      "outputs": []
    },
    {
      "cell_type": "code",
      "source": [
        "ordered_rank_features = SelectKBest(score_func=chi2, k=14)\n",
        "ordered_feature = ordered_rank_features.fit(df_cat, df_num['selling_price'])\n",
        "# ordered_feature.scores_"
      ],
      "metadata": {
        "id": "r_Kfa8SXmXB_"
      },
      "execution_count": 19,
      "outputs": []
    },
    {
      "cell_type": "code",
      "source": [
        "df_scores = pd.DataFrame(ordered_feature.scores_, columns=['Score'])\n",
        "df_columns = pd.DataFrame(df_cat.columns)\n",
        "univariate_ranked = pd.concat([df_columns, df_scores],axis=1)\n",
        "univariate_ranked.columns = ['Features', 'Scores']\n",
        "univariate_ranked.set_index('Features', inplace = True)\n",
        "\n",
        "# Ambil 5 fitur paling penting\n",
        "top_cat = univariate_ranked.sort_values('Scores', ascending = False).head()"
      ],
      "metadata": {
        "id": "0Uwx3u8xm7VH"
      },
      "execution_count": 20,
      "outputs": []
    },
    {
      "cell_type": "code",
      "source": [
        "df_new = pd.concat([df_num, df_cat], axis = 1)"
      ],
      "metadata": {
        "id": "iG5p6oOInSJN"
      },
      "execution_count": 21,
      "outputs": []
    },
    {
      "cell_type": "code",
      "source": [
        "df_new.dropna(inplace = True)"
      ],
      "metadata": {
        "id": "4Oqold_jnecH"
      },
      "execution_count": 22,
      "outputs": []
    },
    {
      "cell_type": "code",
      "source": [
        "lg_search = {\n",
        "    'max_depth': Integer(1, 10),\n",
        "    'bagging_freq': Integer(1, 40), \n",
        "    'bagging_fraction': Real(0.5, 0.99),\n",
        "    'n_estimators': Integer(50, 1000),\n",
        "    'learning_rate': Real(0.0001, 0.1),\n",
        "    'metric': ['rmse'],\n",
        "    'boosting_type': Categorical(['dart', 'gbdt', 'rf']), \n",
        "    # 'objective': Categorical(['regression_l1', 'regression_l2', 'regression']),\n",
        "  }"
      ],
      "metadata": {
        "id": "zCCSgfjIpYbK"
      },
      "execution_count": 23,
      "outputs": []
    },
    {
      "cell_type": "code",
      "source": [
        "X = df_new[top_cat.index.tolist()+highest_corr_features.tolist()]\n",
        "y = df_new['selling_price']"
      ],
      "metadata": {
        "id": "0Ey30AhRkLRG"
      },
      "execution_count": 24,
      "outputs": []
    },
    {
      "cell_type": "code",
      "source": [
        "train_x, test_x, train_y, test_y = train_test_split(X, y, test_size=0.2, random_state=0)"
      ],
      "metadata": {
        "id": "l9GSuIjUwVyK"
      },
      "execution_count": 25,
      "outputs": []
    },
    {
      "cell_type": "code",
      "source": [
        "# %%time\n",
        "# model = lgb.LGBMRegressor(objective='regression')\n",
        "# model.fit(train_x, train_y)\n",
        "\n",
        "# cv = KFold(n_splits=5)\n",
        "# opt = BayesSearchCV(model, lg_search, cv=cv)\n",
        "# opt.fit(train_x, train_y)"
      ],
      "metadata": {
        "id": "VWlVLiFSwUXA"
      },
      "execution_count": 26,
      "outputs": []
    },
    {
      "cell_type": "code",
      "source": [
        "# cv_results = pd.DataFrame(opt.cv_results_)\n",
        "# cv_results.to_csv('params.csv')"
      ],
      "metadata": {
        "id": "vuq_7lXE5rrC"
      },
      "execution_count": 27,
      "outputs": []
    },
    {
      "cell_type": "code",
      "source": [
        "lgbm_params = {\n",
        "  'bagging_fraction': 0.7888367978656703,\n",
        "  'bagging_freq': 35,\n",
        "  'boosting_type': 'gbdt',\n",
        "  'learning_rate': 0.0700085053896429,\n",
        "  'max_depth': 9,\n",
        "  'metric': 'rmse',\n",
        "  'n_estimators': 477,\n",
        "  'objective': 'regression_l2'}"
      ],
      "metadata": {
        "id": "GH5-p0YX9UYi"
      },
      "execution_count": 28,
      "outputs": []
    },
    {
      "cell_type": "code",
      "source": [
        "class Prediction:\n",
        "  def __init__(self, train_x, test_x, train_y, test_y, val_x, val_y, params):\n",
        "    self.train_x = train_x\n",
        "    self.train_y = train_y\n",
        "    self.test_x = test_x\n",
        "    self.test_y = test_y\n",
        "    self.val_x = val_x\n",
        "    self.val_y = val_y\n",
        "    self.params = params\n",
        "\n",
        "  def lgbm(self):\n",
        "    train = lgb.Dataset(self.train_x, label=self.train_y)\n",
        "    val = lgb.Dataset(self.val_x, label=self.val_y)\n",
        "    model  = lgb.train(self.params, train, valid_sets=[val], early_stopping_rounds=50)\n",
        "    prediction = model.predict(self.test_x)\n",
        "\n",
        "    return prediction"
      ],
      "metadata": {
        "id": "hQnln-6TBzts"
      },
      "execution_count": 29,
      "outputs": []
    },
    {
      "cell_type": "code",
      "source": [
        "train_x, val_x, train_y, val_y = train_test_split(train_x, train_y, test_size=0.2, random_state=0)"
      ],
      "metadata": {
        "id": "CQ8pi_PDCWop"
      },
      "execution_count": 30,
      "outputs": []
    },
    {
      "cell_type": "code",
      "source": [
        "predict = Prediction(train_x, test_x, train_y, test_y, val_x, val_y, lgbm_params)"
      ],
      "metadata": {
        "id": "IUec9tw3Cgcs"
      },
      "execution_count": 31,
      "outputs": []
    },
    {
      "cell_type": "code",
      "source": [
        "pred = pd.DataFrame(predict.lgbm(), columns=['lgbm'])\n",
        "# pred['actual'] = test_y"
      ],
      "metadata": {
        "id": "POn2UAupC1vB",
        "colab": {
          "base_uri": "https://localhost:8080/"
        },
        "outputId": "3ca95163-2da7-4091-a010-7245eac19d4e"
      },
      "execution_count": 32,
      "outputs": [
        {
          "output_type": "stream",
          "name": "stdout",
          "text": [
            "[1]\tvalid_0's rmse: 708079\n",
            "Training until validation scores don't improve for 50 rounds.\n",
            "[2]\tvalid_0's rmse: 657399\n",
            "[3]\tvalid_0's rmse: 610180\n",
            "[4]\tvalid_0's rmse: 566847\n",
            "[5]\tvalid_0's rmse: 526372\n",
            "[6]\tvalid_0's rmse: 488985\n",
            "[7]\tvalid_0's rmse: 454005\n",
            "[8]\tvalid_0's rmse: 421285\n",
            "[9]\tvalid_0's rmse: 390981\n",
            "[10]\tvalid_0's rmse: 362852\n",
            "[11]\tvalid_0's rmse: 336875\n",
            "[12]\tvalid_0's rmse: 312545\n",
            "[13]\tvalid_0's rmse: 290134\n",
            "[14]\tvalid_0's rmse: 269079\n",
            "[15]\tvalid_0's rmse: 249700\n",
            "[16]\tvalid_0's rmse: 231676\n",
            "[17]\tvalid_0's rmse: 214744\n",
            "[18]\tvalid_0's rmse: 199167\n",
            "[19]\tvalid_0's rmse: 184540\n",
            "[20]\tvalid_0's rmse: 170947\n",
            "[21]\tvalid_0's rmse: 158356\n",
            "[22]\tvalid_0's rmse: 146813\n",
            "[23]\tvalid_0's rmse: 136028\n",
            "[24]\tvalid_0's rmse: 125856\n",
            "[25]\tvalid_0's rmse: 116486\n",
            "[26]\tvalid_0's rmse: 107770\n",
            "[27]\tvalid_0's rmse: 99630.2\n",
            "[28]\tvalid_0's rmse: 92261.7\n",
            "[29]\tvalid_0's rmse: 85321.4\n",
            "[30]\tvalid_0's rmse: 78851.5\n",
            "[31]\tvalid_0's rmse: 72950.1\n",
            "[32]\tvalid_0's rmse: 67436.3\n",
            "[33]\tvalid_0's rmse: 62433.1\n",
            "[34]\tvalid_0's rmse: 57719\n",
            "[35]\tvalid_0's rmse: 53417.7\n",
            "[36]\tvalid_0's rmse: 49738\n",
            "[37]\tvalid_0's rmse: 46324.5\n",
            "[38]\tvalid_0's rmse: 43163.3\n",
            "[39]\tvalid_0's rmse: 40269.4\n",
            "[40]\tvalid_0's rmse: 37622.5\n",
            "[41]\tvalid_0's rmse: 35180.1\n",
            "[42]\tvalid_0's rmse: 32959.7\n",
            "[43]\tvalid_0's rmse: 30892.8\n",
            "[44]\tvalid_0's rmse: 29044.2\n",
            "[45]\tvalid_0's rmse: 27327.8\n",
            "[46]\tvalid_0's rmse: 25794.5\n",
            "[47]\tvalid_0's rmse: 24432.2\n",
            "[48]\tvalid_0's rmse: 23137.9\n",
            "[49]\tvalid_0's rmse: 22039.6\n",
            "[50]\tvalid_0's rmse: 20971.2\n",
            "[51]\tvalid_0's rmse: 20119\n",
            "[52]\tvalid_0's rmse: 19277.3\n",
            "[53]\tvalid_0's rmse: 18499.8\n",
            "[54]\tvalid_0's rmse: 17911.5\n",
            "[55]\tvalid_0's rmse: 17410.9\n",
            "[56]\tvalid_0's rmse: 16850.1\n",
            "[57]\tvalid_0's rmse: 16488.3\n",
            "[58]\tvalid_0's rmse: 16191.2\n",
            "[59]\tvalid_0's rmse: 15946.8\n",
            "[60]\tvalid_0's rmse: 15736.9\n",
            "[61]\tvalid_0's rmse: 15391.7\n",
            "[62]\tvalid_0's rmse: 15268.7\n",
            "[63]\tvalid_0's rmse: 15177.8\n",
            "[64]\tvalid_0's rmse: 15128.5\n",
            "[65]\tvalid_0's rmse: 14924.8\n",
            "[66]\tvalid_0's rmse: 14716.9\n",
            "[67]\tvalid_0's rmse: 14508.7\n",
            "[68]\tvalid_0's rmse: 14294.5\n",
            "[69]\tvalid_0's rmse: 14158.5\n",
            "[70]\tvalid_0's rmse: 14033.3\n",
            "[71]\tvalid_0's rmse: 13989.5\n",
            "[72]\tvalid_0's rmse: 14012\n",
            "[73]\tvalid_0's rmse: 14080.8\n",
            "[74]\tvalid_0's rmse: 14255.8\n",
            "[75]\tvalid_0's rmse: 14480.6\n",
            "[76]\tvalid_0's rmse: 14608\n",
            "[77]\tvalid_0's rmse: 14864.3\n",
            "[78]\tvalid_0's rmse: 14986.1\n",
            "[79]\tvalid_0's rmse: 15246.2\n",
            "[80]\tvalid_0's rmse: 15363\n",
            "[81]\tvalid_0's rmse: 15622.2\n",
            "[82]\tvalid_0's rmse: 15729.5\n",
            "[83]\tvalid_0's rmse: 15767.9\n",
            "[84]\tvalid_0's rmse: 16008.8\n",
            "[85]\tvalid_0's rmse: 16115.4\n",
            "[86]\tvalid_0's rmse: 16358.2\n",
            "[87]\tvalid_0's rmse: 16389.7\n",
            "[88]\tvalid_0's rmse: 16629.7\n",
            "[89]\tvalid_0's rmse: 16705\n",
            "[90]\tvalid_0's rmse: 16928.6\n",
            "[91]\tvalid_0's rmse: 16996.3\n",
            "[92]\tvalid_0's rmse: 17027\n",
            "[93]\tvalid_0's rmse: 17248.6\n",
            "[94]\tvalid_0's rmse: 17311.8\n",
            "[95]\tvalid_0's rmse: 17278.7\n",
            "[96]\tvalid_0's rmse: 17453.1\n",
            "[97]\tvalid_0's rmse: 17657.4\n",
            "[98]\tvalid_0's rmse: 17709.5\n",
            "[99]\tvalid_0's rmse: 17660.6\n",
            "[100]\tvalid_0's rmse: 17877.1\n",
            "[101]\tvalid_0's rmse: 17834.2\n",
            "[102]\tvalid_0's rmse: 17970.7\n",
            "[103]\tvalid_0's rmse: 18014.9\n",
            "[104]\tvalid_0's rmse: 18205.5\n",
            "[105]\tvalid_0's rmse: 18214.2\n",
            "[106]\tvalid_0's rmse: 18203.1\n",
            "[107]\tvalid_0's rmse: 18147.8\n",
            "[108]\tvalid_0's rmse: 18166.4\n",
            "[109]\tvalid_0's rmse: 18016.2\n",
            "[110]\tvalid_0's rmse: 18034.7\n",
            "[111]\tvalid_0's rmse: 17910.3\n",
            "[112]\tvalid_0's rmse: 17962.4\n",
            "[113]\tvalid_0's rmse: 17866.5\n",
            "[114]\tvalid_0's rmse: 17921.9\n",
            "[115]\tvalid_0's rmse: 18093.7\n",
            "[116]\tvalid_0's rmse: 18149\n",
            "[117]\tvalid_0's rmse: 18200.7\n",
            "[118]\tvalid_0's rmse: 18372.4\n",
            "[119]\tvalid_0's rmse: 18423.4\n",
            "[120]\tvalid_0's rmse: 18593.9\n",
            "[121]\tvalid_0's rmse: 18642.3\n",
            "Early stopping, best iteration is:\n",
            "[71]\tvalid_0's rmse: 13989.5\n"
          ]
        }
      ]
    },
    {
      "cell_type": "code",
      "source": [
        "def acc(y_true, y_pred):\n",
        "  medae  = median_absolute_error(y_true, y_pred, multioutput='raw_values')\n",
        "  mae = mean_absolute_error(y_true, y_pred, multioutput='raw_values')\n",
        "  rmse = mean_squared_error(y_true, y_pred, squared=False)\n",
        "  r2 = r2_score(y_true, y_pred)\n",
        "  return medae, rmse, mae, r2"
      ],
      "metadata": {
        "id": "DBZjKTGnDjZX"
      },
      "execution_count": 33,
      "outputs": []
    },
    {
      "cell_type": "code",
      "source": [
        "# pred.lgbm = pred.lgbm.astype('str')\n",
        "# pred.lgbm = pred.lgbm.str.split('.').str[0]\n",
        "# pred.lgbm = pd.to_numeric(pred.lgbm, errors='coerce')"
      ],
      "metadata": {
        "id": "_LJt7qNXeNs3"
      },
      "execution_count": 34,
      "outputs": []
    },
    {
      "cell_type": "code",
      "source": [
        "pred.lgbm = pd.to_numeric(pred.lgbm, errors='coerce')"
      ],
      "metadata": {
        "id": "8UK7XSezgNd1"
      },
      "execution_count": 35,
      "outputs": []
    },
    {
      "cell_type": "code",
      "source": [
        "pred.describe()"
      ],
      "metadata": {
        "colab": {
          "base_uri": "https://localhost:8080/",
          "height": 300
        },
        "id": "SP8HtvjPi1fx",
        "outputId": "e72c0d11-6f86-4c28-9a72-68aa21b4929e"
      },
      "execution_count": 36,
      "outputs": [
        {
          "output_type": "execute_result",
          "data": {
            "text/plain": [
              "               lgbm\n",
              "count  1.573000e+03\n",
              "mean   6.254797e+05\n",
              "std    7.523902e+05\n",
              "min    4.715997e+04\n",
              "25%    2.668558e+05\n",
              "50%    4.511203e+05\n",
              "75%    6.743049e+05\n",
              "max    5.630152e+06"
            ],
            "text/html": [
              "\n",
              "  <div id=\"df-21848185-ae36-4063-8d21-c0cdf9d4834f\">\n",
              "    <div class=\"colab-df-container\">\n",
              "      <div>\n",
              "<style scoped>\n",
              "    .dataframe tbody tr th:only-of-type {\n",
              "        vertical-align: middle;\n",
              "    }\n",
              "\n",
              "    .dataframe tbody tr th {\n",
              "        vertical-align: top;\n",
              "    }\n",
              "\n",
              "    .dataframe thead th {\n",
              "        text-align: right;\n",
              "    }\n",
              "</style>\n",
              "<table border=\"1\" class=\"dataframe\">\n",
              "  <thead>\n",
              "    <tr style=\"text-align: right;\">\n",
              "      <th></th>\n",
              "      <th>lgbm</th>\n",
              "    </tr>\n",
              "  </thead>\n",
              "  <tbody>\n",
              "    <tr>\n",
              "      <th>count</th>\n",
              "      <td>1.573000e+03</td>\n",
              "    </tr>\n",
              "    <tr>\n",
              "      <th>mean</th>\n",
              "      <td>6.254797e+05</td>\n",
              "    </tr>\n",
              "    <tr>\n",
              "      <th>std</th>\n",
              "      <td>7.523902e+05</td>\n",
              "    </tr>\n",
              "    <tr>\n",
              "      <th>min</th>\n",
              "      <td>4.715997e+04</td>\n",
              "    </tr>\n",
              "    <tr>\n",
              "      <th>25%</th>\n",
              "      <td>2.668558e+05</td>\n",
              "    </tr>\n",
              "    <tr>\n",
              "      <th>50%</th>\n",
              "      <td>4.511203e+05</td>\n",
              "    </tr>\n",
              "    <tr>\n",
              "      <th>75%</th>\n",
              "      <td>6.743049e+05</td>\n",
              "    </tr>\n",
              "    <tr>\n",
              "      <th>max</th>\n",
              "      <td>5.630152e+06</td>\n",
              "    </tr>\n",
              "  </tbody>\n",
              "</table>\n",
              "</div>\n",
              "      <button class=\"colab-df-convert\" onclick=\"convertToInteractive('df-21848185-ae36-4063-8d21-c0cdf9d4834f')\"\n",
              "              title=\"Convert this dataframe to an interactive table.\"\n",
              "              style=\"display:none;\">\n",
              "        \n",
              "  <svg xmlns=\"http://www.w3.org/2000/svg\" height=\"24px\"viewBox=\"0 0 24 24\"\n",
              "       width=\"24px\">\n",
              "    <path d=\"M0 0h24v24H0V0z\" fill=\"none\"/>\n",
              "    <path d=\"M18.56 5.44l.94 2.06.94-2.06 2.06-.94-2.06-.94-.94-2.06-.94 2.06-2.06.94zm-11 1L8.5 8.5l.94-2.06 2.06-.94-2.06-.94L8.5 2.5l-.94 2.06-2.06.94zm10 10l.94 2.06.94-2.06 2.06-.94-2.06-.94-.94-2.06-.94 2.06-2.06.94z\"/><path d=\"M17.41 7.96l-1.37-1.37c-.4-.4-.92-.59-1.43-.59-.52 0-1.04.2-1.43.59L10.3 9.45l-7.72 7.72c-.78.78-.78 2.05 0 2.83L4 21.41c.39.39.9.59 1.41.59.51 0 1.02-.2 1.41-.59l7.78-7.78 2.81-2.81c.8-.78.8-2.07 0-2.86zM5.41 20L4 18.59l7.72-7.72 1.47 1.35L5.41 20z\"/>\n",
              "  </svg>\n",
              "      </button>\n",
              "      \n",
              "  <style>\n",
              "    .colab-df-container {\n",
              "      display:flex;\n",
              "      flex-wrap:wrap;\n",
              "      gap: 12px;\n",
              "    }\n",
              "\n",
              "    .colab-df-convert {\n",
              "      background-color: #E8F0FE;\n",
              "      border: none;\n",
              "      border-radius: 50%;\n",
              "      cursor: pointer;\n",
              "      display: none;\n",
              "      fill: #1967D2;\n",
              "      height: 32px;\n",
              "      padding: 0 0 0 0;\n",
              "      width: 32px;\n",
              "    }\n",
              "\n",
              "    .colab-df-convert:hover {\n",
              "      background-color: #E2EBFA;\n",
              "      box-shadow: 0px 1px 2px rgba(60, 64, 67, 0.3), 0px 1px 3px 1px rgba(60, 64, 67, 0.15);\n",
              "      fill: #174EA6;\n",
              "    }\n",
              "\n",
              "    [theme=dark] .colab-df-convert {\n",
              "      background-color: #3B4455;\n",
              "      fill: #D2E3FC;\n",
              "    }\n",
              "\n",
              "    [theme=dark] .colab-df-convert:hover {\n",
              "      background-color: #434B5C;\n",
              "      box-shadow: 0px 1px 3px 1px rgba(0, 0, 0, 0.15);\n",
              "      filter: drop-shadow(0px 1px 2px rgba(0, 0, 0, 0.3));\n",
              "      fill: #FFFFFF;\n",
              "    }\n",
              "  </style>\n",
              "\n",
              "      <script>\n",
              "        const buttonEl =\n",
              "          document.querySelector('#df-21848185-ae36-4063-8d21-c0cdf9d4834f button.colab-df-convert');\n",
              "        buttonEl.style.display =\n",
              "          google.colab.kernel.accessAllowed ? 'block' : 'none';\n",
              "\n",
              "        async function convertToInteractive(key) {\n",
              "          const element = document.querySelector('#df-21848185-ae36-4063-8d21-c0cdf9d4834f');\n",
              "          const dataTable =\n",
              "            await google.colab.kernel.invokeFunction('convertToInteractive',\n",
              "                                                     [key], {});\n",
              "          if (!dataTable) return;\n",
              "\n",
              "          const docLinkHtml = 'Like what you see? Visit the ' +\n",
              "            '<a target=\"_blank\" href=https://colab.research.google.com/notebooks/data_table.ipynb>data table notebook</a>'\n",
              "            + ' to learn more about interactive tables.';\n",
              "          element.innerHTML = '';\n",
              "          dataTable['output_type'] = 'display_data';\n",
              "          await google.colab.output.renderOutput(dataTable, element);\n",
              "          const docLink = document.createElement('div');\n",
              "          docLink.innerHTML = docLinkHtml;\n",
              "          element.appendChild(docLink);\n",
              "        }\n",
              "      </script>\n",
              "    </div>\n",
              "  </div>\n",
              "  "
            ]
          },
          "metadata": {},
          "execution_count": 36
        }
      ]
    },
    {
      "cell_type": "code",
      "source": [
        "medae, rmse, mae, r2 = acc(test_y, pred.lgbm)\n",
        "print('Test MedAE: %.8f' % medae)\n",
        "print('Test MAE: %.8f' % mae)\n",
        "print('Test RMSE: %.8f' % rmse)\n",
        "print('Test R2: %.8f' % r2)\n",
        "print('\\n')"
      ],
      "metadata": {
        "colab": {
          "base_uri": "https://localhost:8080/"
        },
        "id": "2FZ391nCD_nA",
        "outputId": "939de930-d146-43eb-d8a1-f11a5bb705ae"
      },
      "execution_count": 37,
      "outputs": [
        {
          "output_type": "stream",
          "name": "stdout",
          "text": [
            "Test MedAE: 1677.09579425\n",
            "Test MAE: 4081.24180573\n",
            "Test RMSE: 19775.38147969\n",
            "Test R2: 0.99931414\n",
            "\n",
            "\n"
          ]
        }
      ]
    },
    {
      "cell_type": "code",
      "source": [
        "df_new.to_csv(\"car_sales_detail_forecast.csv\")"
      ],
      "metadata": {
        "id": "liWxvBM1k941"
      },
      "execution_count": 42,
      "outputs": []
    },
    {
      "cell_type": "code",
      "source": [
        "def plot_result(prediction, actual):\n",
        "  plt.figure(figsize = (10,10))\n",
        "  plt.scatter(prediction, actual, color = 'r', s = 5)\n",
        "  plt.xlabel('Prediction')\n",
        "  plt.ylabel('Actual')\n",
        "  plt.plot([0,3e6], [0,3e6])\n",
        "  plt.title(\"Car Sales Forecast vs Actual\")\n",
        "  plt.show()\n",
        "  \n",
        "plot_result(pred.lgbm, test_y)"
      ],
      "metadata": {
        "colab": {
          "base_uri": "https://localhost:8080/",
          "height": 621
        },
        "id": "5hbzL6PuEJNT",
        "outputId": "c917a2c5-dfa1-484c-a969-9dac85fbbe34"
      },
      "execution_count": 40,
      "outputs": [
        {
          "output_type": "display_data",
          "data": {
            "text/plain": [
              "<Figure size 720x720 with 1 Axes>"
            ],
            "image/png": "[encoded data removed]"
          },
          "metadata": {
            "needs_background": "light"
          }
        }
      ]
    },
    {
      "cell_type": "code",
      "source": [],
      "metadata": {
        "id": "pNV7feNum_3V"
      },
      "execution_count": 39,
      "outputs": []
    }
  ],
  "metadata": {
    "colab": {
      "collapsed_sections": [],
      "provenance": []
    },
    "kernelspec": {
      "display_name": "Python 3",
      "name": "python3"
    },
    "language_info": {
      "name": "python"
    }
  },
  "nbformat": 4,
  "nbformat_minor": 0
}